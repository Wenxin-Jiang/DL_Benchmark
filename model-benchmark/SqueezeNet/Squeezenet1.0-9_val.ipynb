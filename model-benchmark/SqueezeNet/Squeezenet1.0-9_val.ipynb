{
 "cells": [
  {
   "cell_type": "code",
   "execution_count": 1,
   "metadata": {},
   "outputs": [],
   "source": [
    "import matplotlib\n",
    "import mxnet as mx\n",
    "import numpy as np\n",
    "from mxnet import gluon, nd\n",
    "from mxnet.gluon.data.vision import transforms\n",
    "from gluoncv.data import imagenet\n",
    "from collections import namedtuple\n",
    "import multiprocessing\n",
    "from mxnet.contrib.onnx.onnx2mx.import_model import import_model"
   ]
  },
  {
   "cell_type": "code",
   "execution_count": 2,
   "metadata": {},
   "outputs": [],
   "source": [
    "# Determine and set context\n",
    "if len(mx.test_utils.list_gpus())==0:\n",
    "    ctx = [mx.cpu()]\n",
    "else:\n",
    "    ctx = [mx.gpu(0)]\n",
    "\n",
    "# path to imagenet dataset folder\n",
    "data_dir = '/home/jiang784/Benchmark/dataset/imagenet/val'\n",
    "\n",
    "# batch size (set to 1 for cpu)\n",
    "batch_size = 128\n",
    "\n",
    "# number of preprocessing workers\n",
    "num_workers = multiprocessing.cpu_count()\n",
    "\n",
    "# path to ONNX model file\n",
    "model_path = '/home/jiang784/Benchmark/DL_Benchmark/models/onnx/squeezenet1.0-9.onnx'"
   ]
  },
  {
   "cell_type": "code",
   "execution_count": 3,
   "metadata": {},
   "outputs": [],
   "source": [
    "sym, arg_params, aux_params = import_model(model_path)\n"
   ]
  },
  {
   "cell_type": "code",
   "execution_count": 4,
   "metadata": {},
   "outputs": [],
   "source": [
    "# Define evaluation metrics\n",
    "acc_top1 = mx.metric.Accuracy()\n",
    "acc_top5 = mx.metric.TopKAccuracy(5)"
   ]
  },
  {
   "cell_type": "code",
   "execution_count": 5,
   "metadata": {},
   "outputs": [],
   "source": [
    "# Define image transforms\n",
    "normalize = transforms.Normalize([0.485, 0.456, 0.406], [0.229, 0.224, 0.225])\n",
    "transform_test = transforms.Compose([\n",
    "    transforms.Resize(256),\n",
    "    transforms.CenterCrop(224),\n",
    "    transforms.ToTensor(),\n",
    "    normalize\n",
    "])\n",
    "\n",
    "# Load and process input\n",
    "val_data = gluon.data.DataLoader(\n",
    "    imagenet.classification.ImageNet(data_dir, train=False).transform_first(transform_test),\n",
    "    batch_size=batch_size, shuffle=False, num_workers=num_workers)\n"
   ]
  },
  {
   "cell_type": "code",
   "execution_count": 6,
   "metadata": {},
   "outputs": [
    {
     "ename": "ValueError",
     "evalue": "\u001b[91mYou created Module with Module(..., data_names=['data']) but input with name 'data' is not found in symbol.list_arguments(). Did you mean one of:\n\tdata_0\n\tconv1_w_0\n\tconv1_b_0\n\tfire2/squeeze1x1_w_0\n\tfire2/squeeze1x1_b_0\n\tfire2/expand1x1_w_0\n\tfire2/expand1x1_b_0\n\tfire2/expand3x3_w_0\n\tfire2/expand3x3_b_0\n\tfire3/squeeze1x1_w_0\n\tfire3/squeeze1x1_b_0\n\tfire3/expand1x1_w_0\n\tfire3/expand1x1_b_0\n\tfire3/expand3x3_w_0\n\tfire3/expand3x3_b_0\n\tfire4/squeeze1x1_w_0\n\tfire4/squeeze1x1_b_0\n\tfire4/expand1x1_w_0\n\tfire4/expand1x1_b_0\n\tfire4/expand3x3_w_0\n\tfire4/expand3x3_b_0\n\tfire5/squeeze1x1_w_0\n\tfire5/squeeze1x1_b_0\n\tfire5/expand1x1_w_0\n\tfire5/expand1x1_b_0\n\tfire5/expand3x3_w_0\n\tfire5/expand3x3_b_0\n\tfire6/squeeze1x1_w_0\n\tfire6/squeeze1x1_b_0\n\tfire6/expand1x1_w_0\n\tfire6/expand1x1_b_0\n\tfire6/expand3x3_w_0\n\tfire6/expand3x3_b_0\n\tfire7/squeeze1x1_w_0\n\tfire7/squeeze1x1_b_0\n\tfire7/expand1x1_w_0\n\tfire7/expand1x1_b_0\n\tfire7/expand3x3_w_0\n\tfire7/expand3x3_b_0\n\tfire8/squeeze1x1_w_0\n\tfire8/squeeze1x1_b_0\n\tfire8/expand1x1_w_0\n\tfire8/expand1x1_b_0\n\tfire8/expand3x3_w_0\n\tfire8/expand3x3_b_0\n\tfire9/squeeze1x1_w_0\n\tfire9/squeeze1x1_b_0\n\tfire9/expand1x1_w_0\n\tfire9/expand1x1_b_0\n\tfire9/expand3x3_w_0\n\tfire9/expand3x3_b_0\n\tconv10_w_0\n\tconv10_b_0\u001b[0m",
     "output_type": "error",
     "traceback": [
      "\u001b[0;31m---------------------------------------------------------------------------\u001b[0m",
      "\u001b[0;31mValueError\u001b[0m                                Traceback (most recent call last)",
      "\u001b[1;32m/home/jiang784/Benchmark/DL_Benchmark/model-benchmark/SqueezeNet/Squeezenet1.0-9_val.ipynb Cell 6'\u001b[0m in \u001b[0;36m<cell line: 2>\u001b[0;34m()\u001b[0m\n\u001b[1;32m      <a href='vscode-notebook-cell://ssh-remote%2B7b22686f73744e616d65223a22646c2d6265726c696e2e65636e2e7075726475652e656475222c2275736572223a226a69616e67373834227d/home/jiang784/Benchmark/DL_Benchmark/model-benchmark/SqueezeNet/Squeezenet1.0-9_val.ipynb#ch0000005vscode-remote?line=0'>1</a>\u001b[0m \u001b[39m# Load module\u001b[39;00m\n\u001b[0;32m----> <a href='vscode-notebook-cell://ssh-remote%2B7b22686f73744e616d65223a22646c2d6265726c696e2e65636e2e7075726475652e656475222c2275736572223a226a69616e67373834227d/home/jiang784/Benchmark/DL_Benchmark/model-benchmark/SqueezeNet/Squeezenet1.0-9_val.ipynb#ch0000005vscode-remote?line=1'>2</a>\u001b[0m mod \u001b[39m=\u001b[39m mx\u001b[39m.\u001b[39;49mmod\u001b[39m.\u001b[39;49mModule(symbol\u001b[39m=\u001b[39;49msym, context\u001b[39m=\u001b[39;49mctx, label_names\u001b[39m=\u001b[39;49m\u001b[39mNone\u001b[39;49;00m)\n\u001b[1;32m      <a href='vscode-notebook-cell://ssh-remote%2B7b22686f73744e616d65223a22646c2d6265726c696e2e65636e2e7075726475652e656475222c2275736572223a226a69616e67373834227d/home/jiang784/Benchmark/DL_Benchmark/model-benchmark/SqueezeNet/Squeezenet1.0-9_val.ipynb#ch0000005vscode-remote?line=2'>3</a>\u001b[0m mod\u001b[39m.\u001b[39mbind(for_training\u001b[39m=\u001b[39m\u001b[39mFalse\u001b[39;00m, data_shapes\u001b[39m=\u001b[39m[(\u001b[39m'\u001b[39m\u001b[39mdata\u001b[39m\u001b[39m'\u001b[39m, (\u001b[39m1\u001b[39m,\u001b[39m3\u001b[39m,\u001b[39m224\u001b[39m,\u001b[39m224\u001b[39m))], \n\u001b[1;32m      <a href='vscode-notebook-cell://ssh-remote%2B7b22686f73744e616d65223a22646c2d6265726c696e2e65636e2e7075726475652e656475222c2275736572223a226a69616e67373834227d/home/jiang784/Benchmark/DL_Benchmark/model-benchmark/SqueezeNet/Squeezenet1.0-9_val.ipynb#ch0000005vscode-remote?line=3'>4</a>\u001b[0m          label_shapes\u001b[39m=\u001b[39mmod\u001b[39m.\u001b[39m_label_shapes)\n\u001b[1;32m      <a href='vscode-notebook-cell://ssh-remote%2B7b22686f73744e616d65223a22646c2d6265726c696e2e65636e2e7075726475652e656475222c2275736572223a226a69616e67373834227d/home/jiang784/Benchmark/DL_Benchmark/model-benchmark/SqueezeNet/Squeezenet1.0-9_val.ipynb#ch0000005vscode-remote?line=4'>5</a>\u001b[0m mod\u001b[39m.\u001b[39mset_params(arg_params, aux_params, allow_missing\u001b[39m=\u001b[39m\u001b[39mTrue\u001b[39;00m)\n",
      "File \u001b[0;32m~/onnx/lib/python3.8/site-packages/mxnet/module/module.py:95\u001b[0m, in \u001b[0;36mModule.__init__\u001b[0;34m(self, symbol, data_names, label_names, logger, context, work_load_list, fixed_param_names, state_names, group2ctxs, compression_params)\u001b[0m\n\u001b[1;32m     <a href='file:///home/jiang784/onnx/lib/python3.8/site-packages/mxnet/module/module.py?line=91'>92</a>\u001b[0m state_names \u001b[39m=\u001b[39m \u001b[39mlist\u001b[39m(state_names) \u001b[39mif\u001b[39;00m state_names \u001b[39mis\u001b[39;00m \u001b[39mnot\u001b[39;00m \u001b[39mNone\u001b[39;00m \u001b[39melse\u001b[39;00m []\n\u001b[1;32m     <a href='file:///home/jiang784/onnx/lib/python3.8/site-packages/mxnet/module/module.py?line=92'>93</a>\u001b[0m fixed_param_names \u001b[39m=\u001b[39m \u001b[39mlist\u001b[39m(fixed_param_names) \u001b[39mif\u001b[39;00m fixed_param_names \u001b[39mis\u001b[39;00m \u001b[39mnot\u001b[39;00m \u001b[39mNone\u001b[39;00m \u001b[39melse\u001b[39;00m []\n\u001b[0;32m---> <a href='file:///home/jiang784/onnx/lib/python3.8/site-packages/mxnet/module/module.py?line=94'>95</a>\u001b[0m _check_input_names(symbol, data_names, \u001b[39m\"\u001b[39;49m\u001b[39mdata\u001b[39;49m\u001b[39m\"\u001b[39;49m, \u001b[39mTrue\u001b[39;49;00m)\n\u001b[1;32m     <a href='file:///home/jiang784/onnx/lib/python3.8/site-packages/mxnet/module/module.py?line=95'>96</a>\u001b[0m _check_input_names(symbol, label_names, \u001b[39m\"\u001b[39m\u001b[39mlabel\u001b[39m\u001b[39m\"\u001b[39m, \u001b[39mFalse\u001b[39;00m)\n\u001b[1;32m     <a href='file:///home/jiang784/onnx/lib/python3.8/site-packages/mxnet/module/module.py?line=96'>97</a>\u001b[0m _check_input_names(symbol, state_names, \u001b[39m\"\u001b[39m\u001b[39mstate\u001b[39m\u001b[39m\"\u001b[39m, \u001b[39mTrue\u001b[39;00m)\n",
      "File \u001b[0;32m~/onnx/lib/python3.8/site-packages/mxnet/module/base_module.py:53\u001b[0m, in \u001b[0;36m_check_input_names\u001b[0;34m(symbol, names, typename, throw)\u001b[0m\n\u001b[1;32m     <a href='file:///home/jiang784/onnx/lib/python3.8/site-packages/mxnet/module/base_module.py?line=47'>48</a>\u001b[0m msg \u001b[39m=\u001b[39m \u001b[39m\"\u001b[39m\u001b[39m\\033\u001b[39;00m\u001b[39m[91mYou created Module with Module(..., \u001b[39m\u001b[39m%s\u001b[39;00m\u001b[39m_names=\u001b[39m\u001b[39m%s\u001b[39;00m\u001b[39m) but \u001b[39m\u001b[39m\"\u001b[39m \\\n\u001b[1;32m     <a href='file:///home/jiang784/onnx/lib/python3.8/site-packages/mxnet/module/base_module.py?line=48'>49</a>\u001b[0m       \u001b[39m\"\u001b[39m\u001b[39minput with name \u001b[39m\u001b[39m'\u001b[39m\u001b[39m%s\u001b[39;00m\u001b[39m'\u001b[39m\u001b[39m is not found in symbol.list_arguments(). \u001b[39m\u001b[39m\"\u001b[39m \\\n\u001b[1;32m     <a href='file:///home/jiang784/onnx/lib/python3.8/site-packages/mxnet/module/base_module.py?line=49'>50</a>\u001b[0m       \u001b[39m\"\u001b[39m\u001b[39mDid you mean one of:\u001b[39m\u001b[39m\\n\u001b[39;00m\u001b[39m\\t\u001b[39;00m\u001b[39m%s\u001b[39;00m\u001b[39m\\033\u001b[39;00m\u001b[39m[0m\u001b[39m\u001b[39m\"\u001b[39m\u001b[39m%\u001b[39m(\n\u001b[1;32m     <a href='file:///home/jiang784/onnx/lib/python3.8/site-packages/mxnet/module/base_module.py?line=50'>51</a>\u001b[0m           typename, \u001b[39mstr\u001b[39m(names), name, \u001b[39m'\u001b[39m\u001b[39m\\n\u001b[39;00m\u001b[39m\\t\u001b[39;00m\u001b[39m'\u001b[39m\u001b[39m.\u001b[39mjoin(candidates))\n\u001b[1;32m     <a href='file:///home/jiang784/onnx/lib/python3.8/site-packages/mxnet/module/base_module.py?line=51'>52</a>\u001b[0m \u001b[39mif\u001b[39;00m throw:\n\u001b[0;32m---> <a href='file:///home/jiang784/onnx/lib/python3.8/site-packages/mxnet/module/base_module.py?line=52'>53</a>\u001b[0m     \u001b[39mraise\u001b[39;00m \u001b[39mValueError\u001b[39;00m(msg)\n\u001b[1;32m     <a href='file:///home/jiang784/onnx/lib/python3.8/site-packages/mxnet/module/base_module.py?line=53'>54</a>\u001b[0m \u001b[39melse\u001b[39;00m:\n\u001b[1;32m     <a href='file:///home/jiang784/onnx/lib/python3.8/site-packages/mxnet/module/base_module.py?line=54'>55</a>\u001b[0m     warnings\u001b[39m.\u001b[39mwarn(msg)\n",
      "\u001b[0;31mValueError\u001b[0m: \u001b[91mYou created Module with Module(..., data_names=['data']) but input with name 'data' is not found in symbol.list_arguments(). Did you mean one of:\n\tdata_0\n\tconv1_w_0\n\tconv1_b_0\n\tfire2/squeeze1x1_w_0\n\tfire2/squeeze1x1_b_0\n\tfire2/expand1x1_w_0\n\tfire2/expand1x1_b_0\n\tfire2/expand3x3_w_0\n\tfire2/expand3x3_b_0\n\tfire3/squeeze1x1_w_0\n\tfire3/squeeze1x1_b_0\n\tfire3/expand1x1_w_0\n\tfire3/expand1x1_b_0\n\tfire3/expand3x3_w_0\n\tfire3/expand3x3_b_0\n\tfire4/squeeze1x1_w_0\n\tfire4/squeeze1x1_b_0\n\tfire4/expand1x1_w_0\n\tfire4/expand1x1_b_0\n\tfire4/expand3x3_w_0\n\tfire4/expand3x3_b_0\n\tfire5/squeeze1x1_w_0\n\tfire5/squeeze1x1_b_0\n\tfire5/expand1x1_w_0\n\tfire5/expand1x1_b_0\n\tfire5/expand3x3_w_0\n\tfire5/expand3x3_b_0\n\tfire6/squeeze1x1_w_0\n\tfire6/squeeze1x1_b_0\n\tfire6/expand1x1_w_0\n\tfire6/expand1x1_b_0\n\tfire6/expand3x3_w_0\n\tfire6/expand3x3_b_0\n\tfire7/squeeze1x1_w_0\n\tfire7/squeeze1x1_b_0\n\tfire7/expand1x1_w_0\n\tfire7/expand1x1_b_0\n\tfire7/expand3x3_w_0\n\tfire7/expand3x3_b_0\n\tfire8/squeeze1x1_w_0\n\tfire8/squeeze1x1_b_0\n\tfire8/expand1x1_w_0\n\tfire8/expand1x1_b_0\n\tfire8/expand3x3_w_0\n\tfire8/expand3x3_b_0\n\tfire9/squeeze1x1_w_0\n\tfire9/squeeze1x1_b_0\n\tfire9/expand1x1_w_0\n\tfire9/expand1x1_b_0\n\tfire9/expand3x3_w_0\n\tfire9/expand3x3_b_0\n\tconv10_w_0\n\tconv10_b_0\u001b[0m"
     ]
    }
   ],
   "source": [
    "# Load module\n",
    "mod = mx.mod.Module(symbol=sym, context=ctx, label_names=None)\n",
    "mod.bind(for_training=False, data_shapes=[('data', (1,3,224,224))], \n",
    "         label_shapes=mod._label_shapes)\n",
    "mod.set_params(arg_params, aux_params, allow_missing=True)"
   ]
  },
  {
   "cell_type": "code",
   "execution_count": null,
   "metadata": {},
   "outputs": [
    {
     "name": "stdout",
     "output_type": "stream",
     "text": [
      "[0 / 390] batches done\n",
      "[50 / 390] batches done\n",
      "[100 / 390] batches done\n",
      "[150 / 390] batches done\n",
      "[200 / 390] batches done\n",
      "[250 / 390] batches done\n",
      "[300 / 390] batches done\n",
      "[350 / 390] batches done\n"
     ]
    }
   ],
   "source": [
    "# Compute evaluations\n",
    "Batch = namedtuple('Batch', ['data'])\n",
    "acc_top1.reset()\n",
    "acc_top5.reset()\n",
    "num_batches = int(50000/batch_size)\n",
    "print('[0 / %d] batches done'%(num_batches))\n",
    "# Loop over batches\n",
    "for i, batch in enumerate(val_data):\n",
    "    # Load batch\n",
    "    data = gluon.utils.split_and_load(batch[0], ctx_list=ctx, batch_axis=0)\n",
    "    label = gluon.utils.split_and_load(batch[1], ctx_list=ctx, batch_axis=0)\n",
    "    # Perform forward pass\n",
    "    mod.forward(Batch([data[0]]))\n",
    "    outputs=mod.get_outputs()\n",
    "    # Update accuracy metrics\n",
    "    acc_top1.update(label, outputs)\n",
    "    acc_top5.update(label, outputs)\n",
    "    if (i+1)%50==0:\n",
    "        print('[%d / %d] batches done'%(i+1,num_batches))"
   ]
  },
  {
   "cell_type": "code",
   "execution_count": null,
   "metadata": {},
   "outputs": [
    {
     "name": "stdout",
     "output_type": "stream",
     "text": [
      "Top-1 accuracy: 0.55994, Top-5 accuracy: 0.7894\n"
     ]
    }
   ],
   "source": [
    "# Print results\n",
    "_, top1 = acc_top1.get()\n",
    "_, top5 = acc_top5.get()\n",
    "print(\"Top-1 acSqcuracy: {}, Top-5 accuracy: {}\".format(top1, top5))"
   ]
  }
 ],
 "metadata": {
  "interpreter": {
   "hash": "31f2aee4e71d21fbe5cf8b01ff0e069b9275f58929596ceb00d14d90e3e16cd6"
  },
  "kernelspec": {
   "display_name": "onnx",
   "language": "python",
   "name": "onnx"
  },
  "language_info": {
   "codemirror_mode": {
    "name": "ipython",
    "version": 3
   },
   "file_extension": ".py",
   "mimetype": "text/x-python",
   "name": "python",
   "nbconvert_exporter": "python",
   "pygments_lexer": "ipython3",
   "version": "3.8.10"
  },
  "orig_nbformat": 4
 },
 "nbformat": 4,
 "nbformat_minor": 2
}
